{
  "nbformat": 4,
  "nbformat_minor": 0,
  "metadata": {
    "colab": {
      "provenance": [],
      "authorship_tag": "ABX9TyOw/PlIgscQR+B9BEFVqQfx",
      "include_colab_link": true
    },
    "kernelspec": {
      "name": "python3",
      "display_name": "Python 3"
    },
    "language_info": {
      "name": "python"
    }
  },
  "cells": [
    {
      "cell_type": "markdown",
      "metadata": {
        "id": "view-in-github",
        "colab_type": "text"
      },
      "source": [
        "<a href=\"https://colab.research.google.com/github/lmdisch/shut-the-box-optimize/blob/main/Shut_the_Box.ipynb\" target=\"_parent\"><img src=\"https://colab.research.google.com/assets/colab-badge.svg\" alt=\"Open In Colab\"/></a>"
      ]
    },
    {
      "cell_type": "markdown",
      "source": [
        "## Play Shut-the-Box\n",
        "This version of Shut-the-Box assumes there are 10 tiles and that you must always roll two dice. You can select which tiles you would like to flip until there are no more tiles left to flip!"
      ],
      "metadata": {
        "id": "Djr_Apdus-n5"
      }
    },
    {
      "cell_type": "code",
      "execution_count": null,
      "metadata": {
        "colab": {
          "base_uri": "https://localhost:8080/"
        },
        "id": "bCKhB_wDkANy",
        "outputId": "c125daed-404d-4394-80ac-4bf603292758"
      },
      "outputs": [
        {
          "output_type": "stream",
          "name": "stdout",
          "text": [
            "Welcome to Shut the Box!\n",
            "\n",
            "\n",
            "Tiles Remaining: 1 2 3 4 5 6 7 8 9 10\n",
            "\n",
            "Roll: 3 + 6 = 9\n",
            "Possible moves:\n",
            "1. [2, 3, 4]\n",
            "2. [1, 3, 5]\n",
            "3. [4, 5]\n",
            "4. [1, 2, 6]\n",
            "5. [3, 6]\n",
            "6. [2, 7]\n",
            "7. [1, 8]\n",
            "8. [9]\n",
            "Choose a move (enter the number): 8\n",
            "\n",
            "Tiles Remaining: 1 2 3 4 5 6 7 8 10\n",
            "\n",
            "Roll: 1 + 2 = 3\n",
            "Possible moves:\n",
            "1. [1, 2]\n",
            "2. [3]\n",
            "Choose a move (enter the number): 2\n",
            "\n",
            "Tiles Remaining: 1 2 4 5 6 7 8 10\n",
            "\n",
            "Roll: 4 + 2 = 6\n",
            "Possible moves:\n",
            "1. [2, 4]\n",
            "2. [1, 5]\n",
            "3. [6]\n",
            "Choose a move (enter the number): 3\n",
            "\n",
            "Tiles Remaining: 1 2 4 5 7 8 10\n",
            "\n",
            "Roll: 4 + 2 = 6\n",
            "Possible moves:\n",
            "1. [2, 4]\n",
            "2. [1, 5]\n",
            "Choose a move (enter the number): 1\n",
            "\n",
            "Tiles Remaining: 1 5 7 8 10\n",
            "\n",
            "Roll: 4 + 5 = 9\n",
            "Possible moves:\n",
            "1. [1, 8]\n",
            "Choose a move (enter the number): 1\n",
            "\n",
            "Tiles Remaining: 5 7 10\n",
            "\n",
            "Roll: 1 + 6 = 7\n",
            "Possible moves:\n",
            "1. [7]\n",
            "Choose a move (enter the number): 1\n",
            "\n",
            "Tiles Remaining: 5 10\n",
            "\n",
            "Roll: 5 + 1 = 6\n",
            "No valid moves. Game over!\n"
          ]
        }
      ],
      "source": [
        "import random\n",
        "\n",
        "def print_tiles(tiles):\n",
        "    print(\"\\nTiles Remaining:\", \" \".join(map(str, tiles)))\n",
        "\n",
        "def roll_dice():\n",
        "    return random.randint(1, 6), random.randint(1, 6)\n",
        "\n",
        "def get_possible_moves(tiles, target):\n",
        "    # Generate all possible combinations of tiles whose sum is equal to the target\n",
        "    return [combo for combo in powerset(tiles) if sum(combo) == target]\n",
        "\n",
        "def powerset(iterable):\n",
        "    s = list(iterable)\n",
        "    return [\n",
        "        [s[j] for j in range(len(s)) if (i & (1 << j)) > 0] for i in range(2**len(s))\n",
        "    ]\n",
        "\n",
        "def play_shut_the_box():\n",
        "    tiles = list(range(1, 11))\n",
        "    print(\"Welcome to Shut the Box!\\n\")\n",
        "\n",
        "    while True:\n",
        "        print_tiles(tiles)\n",
        "\n",
        "        dice1, dice2 = roll_dice()\n",
        "        print(f\"\\nRoll: {dice1} + {dice2} = {dice1 + dice2}\")\n",
        "\n",
        "        possible_moves = get_possible_moves(tiles, dice1 + dice2)\n",
        "\n",
        "        if not possible_moves:\n",
        "            print(\"No valid moves. Game over!\")\n",
        "            break\n",
        "\n",
        "        print(\"Possible moves:\")\n",
        "        for i, move in enumerate(possible_moves):\n",
        "            print(f\"{i + 1}. {move}\")\n",
        "\n",
        "        choice = input(\"Choose a move (enter the number): \").strip()\n",
        "\n",
        "        try:\n",
        "            index = int(choice) - 1\n",
        "            chosen_move = possible_moves[index]\n",
        "\n",
        "            tiles = [tile for tile in tiles if tile not in chosen_move]\n",
        "        except (ValueError, IndexError):\n",
        "            print(\"Invalid input. Please enter a valid move number.\")\n",
        "\n",
        "        if not tiles:\n",
        "            print(\"Congratulations! You shut the box!\")\n",
        "            break\n",
        "\n",
        "if __name__ == \"__main__\":\n",
        "    play_shut_the_box()\n"
      ]
    },
    {
      "cell_type": "markdown",
      "source": [
        "## Simulate Shut-the-Box\n",
        "This code simulates the above Shut-the-Box game, over two strategies. The first strategy is to always select the maximum number of tiles to flip for a given dice roll (e.g., if you roll a 2 and a 4 first, always select to flip tiles 1, 2 and 3). THe second strategy is to always select the minimum number of tiles to flip for a given dice roll (e.g., if you roll a 2 and a 4 first, always flip 6)"
      ],
      "metadata": {
        "id": "-Xw4Jx-ttT-5"
      }
    },
    {
      "cell_type": "code",
      "source": [
        "import random\n",
        "\n",
        "def roll_dice():\n",
        "    return random.randint(1, 6), random.randint(1, 6)\n",
        "\n",
        "def get_possible_moves(tiles, target):\n",
        "    return [combo for combo in powerset(tiles) if sum(combo) == target]\n",
        "\n",
        "def powerset(iterable):\n",
        "    s = list(iterable)\n",
        "    return [\n",
        "        [s[j] for j in range(len(s)) if (i & (1 << j)) > 0] for i in range(2**len(s))\n",
        "    ]\n",
        "\n",
        "def play_shut_the_box(strategy_func):\n",
        "    wins = 0\n",
        "    total_games = 100000\n",
        "\n",
        "    for _ in range(total_games):\n",
        "        tiles = list(range(1, 11))\n",
        "\n",
        "        while True:\n",
        "            dice1, dice2 = roll_dice()\n",
        "            possible_moves = get_possible_moves(tiles, dice1 + dice2)\n",
        "            #print(\"\\nRemaining tiles: \" + str(tiles))\n",
        "            #print(\"\\nRolled Dice: \" + str(dice1) + \", \" + str(dice2))\n",
        "            #print(\"\\nPossible Moves: \" + str(possible_moves))\n",
        "            if not possible_moves:\n",
        "                break\n",
        "\n",
        "            chosen_move = strategy_func(possible_moves)\n",
        "            tiles = [tile for tile in tiles if tile not in chosen_move]\n",
        "\n",
        "            if not tiles:\n",
        "                wins += 1\n",
        "                break\n",
        "\n",
        "    win_percentage = (wins / total_games) * 100\n",
        "    print(f\"Average Win Percentage over {total_games} games: {win_percentage:.2f}%\")\n",
        "\n",
        "def maximize_tiles(possible_moves):\n",
        "    # Choose the move that flips the maximum number of tiles\n",
        "    return max(possible_moves, key=len)\n",
        "\n",
        "def minimize_tiles(possible_moves):\n",
        "    # Choose the move that flips the minimum number of tiles\n",
        "    return min(possible_moves, key=len)\n",
        "\n",
        "if __name__ == \"__main__\":\n",
        "    play_shut_the_box(maximize_tiles)\n",
        "    play_shut_the_box(minimize_tiles)\n"
      ],
      "metadata": {
        "colab": {
          "base_uri": "https://localhost:8080/"
        },
        "id": "KUX7fd8foBaC",
        "outputId": "9504a9dc-08c7-4b01-a47a-2189032419dd"
      },
      "execution_count": null,
      "outputs": [
        {
          "output_type": "stream",
          "name": "stdout",
          "text": [
            "Average Win Percentage over 100000 games: 0.36%\n",
            "Average Win Percentage over 100000 games: 3.36%\n"
          ]
        }
      ]
    }
  ]
}